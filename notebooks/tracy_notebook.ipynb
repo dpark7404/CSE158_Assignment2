{
 "cells": [
  {
   "cell_type": "code",
   "execution_count": 1,
   "id": "0d1f1fe0-b43f-40d3-8a65-47f3b12f3825",
   "metadata": {},
   "outputs": [],
   "source": [
    "import gzip\n",
    "import numpy as np\n",
    "import pandas as pd\n",
    "import json\n",
    "from sklearn.model_selection import train_test_split\n",
    "from sklearn.tree import DecisionTreeClassifier\n",
    "from sklearn.ensemble import RandomForestClassifier\n",
    "from sklearn.compose import ColumnTransformer\n",
    "from sklearn.pipeline import Pipeline\n",
    "from sklearn.metrics import accuracy_score, classification_report, balanced_accuracy_score\n",
    "from sklearn.preprocessing import StandardScaler, OneHotEncoder\n",
    "from xgboost import XGBClassifier\n",
    "import xgboost as xgb\n",
    "from sklearn.preprocessing import LabelEncoder\n",
    "import matplotlib.pyplot as plt"
   ]
  },
  {
   "cell_type": "code",
   "execution_count": 2,
   "id": "c46638db-c2be-4e5f-9c4b-a9509e7ff40a",
   "metadata": {},
   "outputs": [],
   "source": [
    "def parse(path):\n",
    "  g = gzip.open(path, 'r')\n",
    "  for l in g:\n",
    "    yield eval(l, {\"__builtins__\": None}, {\"null\": None})"
   ]
  },
  {
   "cell_type": "code",
   "execution_count": 3,
   "id": "e94b304d-8c9f-47ec-81ab-c34f4483d340",
   "metadata": {},
   "outputs": [],
   "source": [
    "allRatings = [item for item in parse(\"../data/renttherunway_final_data.json.gz\")]"
   ]
  },
  {
   "cell_type": "code",
   "execution_count": 4,
   "id": "0299da11-c830-431a-a780-97d1a6f19720",
   "metadata": {},
   "outputs": [],
   "source": [
    "allRatings = pd.DataFrame(allRatings)"
   ]
  },
  {
   "cell_type": "code",
   "execution_count": 5,
   "id": "1cb1907d-53a9-4058-8881-2fc3bb79464a",
   "metadata": {},
   "outputs": [
    {
     "data": {
      "text/html": [
       "<div>\n",
       "<style scoped>\n",
       "    .dataframe tbody tr th:only-of-type {\n",
       "        vertical-align: middle;\n",
       "    }\n",
       "\n",
       "    .dataframe tbody tr th {\n",
       "        vertical-align: top;\n",
       "    }\n",
       "\n",
       "    .dataframe thead th {\n",
       "        text-align: right;\n",
       "    }\n",
       "</style>\n",
       "<table border=\"1\" class=\"dataframe\">\n",
       "  <thead>\n",
       "    <tr style=\"text-align: right;\">\n",
       "      <th></th>\n",
       "      <th>fit</th>\n",
       "      <th>user_id</th>\n",
       "      <th>bust size</th>\n",
       "      <th>item_id</th>\n",
       "      <th>weight</th>\n",
       "      <th>rating</th>\n",
       "      <th>rented for</th>\n",
       "      <th>review_text</th>\n",
       "      <th>body type</th>\n",
       "      <th>review_summary</th>\n",
       "      <th>category</th>\n",
       "      <th>height</th>\n",
       "      <th>size</th>\n",
       "      <th>age</th>\n",
       "      <th>review_date</th>\n",
       "    </tr>\n",
       "  </thead>\n",
       "  <tbody>\n",
       "    <tr>\n",
       "      <th>0</th>\n",
       "      <td>fit</td>\n",
       "      <td>420272</td>\n",
       "      <td>34d</td>\n",
       "      <td>2260466</td>\n",
       "      <td>137lbs</td>\n",
       "      <td>10</td>\n",
       "      <td>vacation</td>\n",
       "      <td>An adorable romper! Belt and zipper were a lit...</td>\n",
       "      <td>hourglass</td>\n",
       "      <td>So many compliments!</td>\n",
       "      <td>romper</td>\n",
       "      <td>5' 8\"</td>\n",
       "      <td>14</td>\n",
       "      <td>28</td>\n",
       "      <td>April 20, 2016</td>\n",
       "    </tr>\n",
       "    <tr>\n",
       "      <th>1</th>\n",
       "      <td>fit</td>\n",
       "      <td>273551</td>\n",
       "      <td>34b</td>\n",
       "      <td>153475</td>\n",
       "      <td>132lbs</td>\n",
       "      <td>10</td>\n",
       "      <td>other</td>\n",
       "      <td>I rented this dress for a photo shoot. The the...</td>\n",
       "      <td>straight &amp; narrow</td>\n",
       "      <td>I felt so glamourous!!!</td>\n",
       "      <td>gown</td>\n",
       "      <td>5' 6\"</td>\n",
       "      <td>12</td>\n",
       "      <td>36</td>\n",
       "      <td>June 18, 2013</td>\n",
       "    </tr>\n",
       "    <tr>\n",
       "      <th>2</th>\n",
       "      <td>fit</td>\n",
       "      <td>360448</td>\n",
       "      <td>NaN</td>\n",
       "      <td>1063761</td>\n",
       "      <td>NaN</td>\n",
       "      <td>10</td>\n",
       "      <td>party</td>\n",
       "      <td>This hugged in all the right places! It was a ...</td>\n",
       "      <td>NaN</td>\n",
       "      <td>It was a great time to celebrate the (almost) ...</td>\n",
       "      <td>sheath</td>\n",
       "      <td>5' 4\"</td>\n",
       "      <td>4</td>\n",
       "      <td>116</td>\n",
       "      <td>December 14, 2015</td>\n",
       "    </tr>\n",
       "    <tr>\n",
       "      <th>3</th>\n",
       "      <td>fit</td>\n",
       "      <td>909926</td>\n",
       "      <td>34c</td>\n",
       "      <td>126335</td>\n",
       "      <td>135lbs</td>\n",
       "      <td>8</td>\n",
       "      <td>formal affair</td>\n",
       "      <td>I rented this for my company's black tie award...</td>\n",
       "      <td>pear</td>\n",
       "      <td>Dress arrived on time and in perfect condition.</td>\n",
       "      <td>dress</td>\n",
       "      <td>5' 5\"</td>\n",
       "      <td>8</td>\n",
       "      <td>34</td>\n",
       "      <td>February 12, 2014</td>\n",
       "    </tr>\n",
       "    <tr>\n",
       "      <th>4</th>\n",
       "      <td>fit</td>\n",
       "      <td>151944</td>\n",
       "      <td>34b</td>\n",
       "      <td>616682</td>\n",
       "      <td>145lbs</td>\n",
       "      <td>10</td>\n",
       "      <td>wedding</td>\n",
       "      <td>I have always been petite in my upper body and...</td>\n",
       "      <td>athletic</td>\n",
       "      <td>Was in love with this dress !!!</td>\n",
       "      <td>gown</td>\n",
       "      <td>5' 9\"</td>\n",
       "      <td>12</td>\n",
       "      <td>27</td>\n",
       "      <td>September 26, 2016</td>\n",
       "    </tr>\n",
       "  </tbody>\n",
       "</table>\n",
       "</div>"
      ],
      "text/plain": [
       "   fit user_id bust size  item_id  weight rating     rented for  \\\n",
       "0  fit  420272       34d  2260466  137lbs     10       vacation   \n",
       "1  fit  273551       34b   153475  132lbs     10          other   \n",
       "2  fit  360448       NaN  1063761     NaN     10          party   \n",
       "3  fit  909926       34c   126335  135lbs      8  formal affair   \n",
       "4  fit  151944       34b   616682  145lbs     10        wedding   \n",
       "\n",
       "                                         review_text          body type  \\\n",
       "0  An adorable romper! Belt and zipper were a lit...          hourglass   \n",
       "1  I rented this dress for a photo shoot. The the...  straight & narrow   \n",
       "2  This hugged in all the right places! It was a ...                NaN   \n",
       "3  I rented this for my company's black tie award...               pear   \n",
       "4  I have always been petite in my upper body and...           athletic   \n",
       "\n",
       "                                      review_summary category height  size  \\\n",
       "0                               So many compliments!   romper  5' 8\"    14   \n",
       "1                            I felt so glamourous!!!     gown  5' 6\"    12   \n",
       "2  It was a great time to celebrate the (almost) ...   sheath  5' 4\"     4   \n",
       "3   Dress arrived on time and in perfect condition.     dress  5' 5\"     8   \n",
       "4                    Was in love with this dress !!!     gown  5' 9\"    12   \n",
       "\n",
       "   age         review_date  \n",
       "0   28      April 20, 2016  \n",
       "1   36       June 18, 2013  \n",
       "2  116   December 14, 2015  \n",
       "3   34   February 12, 2014  \n",
       "4   27  September 26, 2016  "
      ]
     },
     "execution_count": 5,
     "metadata": {},
     "output_type": "execute_result"
    }
   ],
   "source": [
    "allRatings.head()"
   ]
  },
  {
   "cell_type": "code",
   "execution_count": 6,
   "id": "bfb8114d-0a60-4f85-8285-f34757b570e0",
   "metadata": {
    "scrolled": true
   },
   "outputs": [
    {
     "data": {
      "text/plain": [
       "fit                                                             fit\n",
       "user_id                                                      420272\n",
       "bust size                                                       34d\n",
       "item_id                                                     2260466\n",
       "weight                                                       137lbs\n",
       "rating                                                           10\n",
       "rented for                                                 vacation\n",
       "review_text       An adorable romper! Belt and zipper were a lit...\n",
       "body type                                                 hourglass\n",
       "review_summary                                 So many compliments!\n",
       "category                                                     romper\n",
       "height                                                        5' 8\"\n",
       "size                                                             14\n",
       "age                                                              28\n",
       "review_date                                          April 20, 2016\n",
       "Name: 0, dtype: object"
      ]
     },
     "execution_count": 6,
     "metadata": {},
     "output_type": "execute_result"
    }
   ],
   "source": [
    "allRatings.iloc[0]"
   ]
  },
  {
   "cell_type": "code",
   "execution_count": 7,
   "id": "23051173-b536-4942-9c89-8179e70dc125",
   "metadata": {},
   "outputs": [
    {
     "name": "stdout",
     "output_type": "stream",
     "text": [
      "<class 'pandas.core.frame.DataFrame'>\n",
      "RangeIndex: 192544 entries, 0 to 192543\n",
      "Data columns (total 15 columns):\n",
      " #   Column          Non-Null Count   Dtype \n",
      "---  ------          --------------   ----- \n",
      " 0   fit             192544 non-null  object\n",
      " 1   user_id         192544 non-null  object\n",
      " 2   bust size       174133 non-null  object\n",
      " 3   item_id         192544 non-null  object\n",
      " 4   weight          162562 non-null  object\n",
      " 5   rating          192462 non-null  object\n",
      " 6   rented for      192534 non-null  object\n",
      " 7   review_text     192544 non-null  object\n",
      " 8   body type       177907 non-null  object\n",
      " 9   review_summary  192544 non-null  object\n",
      " 10  category        192544 non-null  object\n",
      " 11  height          191867 non-null  object\n",
      " 12  size            192544 non-null  int64 \n",
      " 13  age             191584 non-null  object\n",
      " 14  review_date     192544 non-null  object\n",
      "dtypes: int64(1), object(14)\n",
      "memory usage: 22.0+ MB\n"
     ]
    }
   ],
   "source": [
    "allRatings.info()"
   ]
  },
  {
   "cell_type": "code",
   "execution_count": 8,
   "id": "45a5921a-3bab-4d99-a148-ff84569ab31a",
   "metadata": {},
   "outputs": [
    {
     "data": {
      "text/plain": [
       "count     192544\n",
       "unique      5850\n",
       "top       126335\n",
       "freq        2241\n",
       "Name: item_id, dtype: object"
      ]
     },
     "execution_count": 8,
     "metadata": {},
     "output_type": "execute_result"
    }
   ],
   "source": [
    "allRatings['item_id'].describe()"
   ]
  },
  {
   "cell_type": "code",
   "execution_count": 9,
   "id": "7cf40257-1a88-493c-b0d2-fd996192edac",
   "metadata": {},
   "outputs": [
    {
     "data": {
      "text/plain": [
       "fit                   0\n",
       "user_id               0\n",
       "bust size         18411\n",
       "item_id               0\n",
       "weight            29982\n",
       "rating               82\n",
       "rented for           10\n",
       "review_text           0\n",
       "body type         14637\n",
       "review_summary        0\n",
       "category              0\n",
       "height              677\n",
       "size                  0\n",
       "age                 960\n",
       "review_date           0\n",
       "dtype: int64"
      ]
     },
     "execution_count": 9,
     "metadata": {},
     "output_type": "execute_result"
    }
   ],
   "source": [
    "allRatings.isnull().sum()"
   ]
  },
  {
   "cell_type": "code",
   "execution_count": 10,
   "id": "8b8c2aac-eaab-4839-86d6-245f08c71a7e",
   "metadata": {},
   "outputs": [],
   "source": [
    "allRatings = allRatings.dropna(subset=['bust size', 'weight', 'rating', 'rented for', 'body type','height', 'age'])"
   ]
  },
  {
   "cell_type": "code",
   "execution_count": 11,
   "id": "0d72bd3f-f5e0-4e6e-8438-8eabb4f29bf2",
   "metadata": {},
   "outputs": [
    {
     "data": {
      "text/plain": [
       "fit               0\n",
       "user_id           0\n",
       "bust size         0\n",
       "item_id           0\n",
       "weight            0\n",
       "rating            0\n",
       "rented for        0\n",
       "review_text       0\n",
       "body type         0\n",
       "review_summary    0\n",
       "category          0\n",
       "height            0\n",
       "size              0\n",
       "age               0\n",
       "review_date       0\n",
       "dtype: int64"
      ]
     },
     "execution_count": 11,
     "metadata": {},
     "output_type": "execute_result"
    }
   ],
   "source": [
    "allRatings.isnull().sum()"
   ]
  },
  {
   "cell_type": "code",
   "execution_count": 12,
   "id": "63319758-5ef4-409c-adfe-a49fbc0245b7",
   "metadata": {},
   "outputs": [
    {
     "data": {
      "text/plain": [
       "'5\\' 8\"'"
      ]
     },
     "execution_count": 12,
     "metadata": {},
     "output_type": "execute_result"
    }
   ],
   "source": [
    "allRatings['height'][0]"
   ]
  },
  {
   "cell_type": "code",
   "execution_count": 13,
   "id": "baef0004-94bd-4ddb-a18e-093094dc84d8",
   "metadata": {},
   "outputs": [],
   "source": [
    "# Converting height to inches\n",
    "allRatings['height'] = (\n",
    "    allRatings['height']\n",
    "    .str.extract(r\"(\\d+)' ?(\\d+)?\")\n",
    "    .fillna(0) \n",
    "    .astype(int)\n",
    "    .apply(lambda x: x[0] * 12 + x[1], axis=1)\n",
    ")"
   ]
  },
  {
   "cell_type": "code",
   "execution_count": 14,
   "id": "82556f11-830d-4112-af15-02ea10abf770",
   "metadata": {},
   "outputs": [],
   "source": [
    "# Convert 'weight' to numeric by removing 'lbs'\n",
    "allRatings['weight'] = pd.to_numeric(allRatings['weight'].str.replace('lbs', ''), errors='coerce')"
   ]
  },
  {
   "cell_type": "code",
   "execution_count": 15,
   "id": "40d49f08-e747-4c55-b562-e64fb1e873e8",
   "metadata": {},
   "outputs": [],
   "source": [
    "# Extract numeric bust size from 'bust size' and handle missing values gracefully\n",
    "allRatings['bust_numeric'] = allRatings['bust size'].str.extract(r'(\\d+)').astype(int)"
   ]
  },
  {
   "cell_type": "code",
   "execution_count": 16,
   "id": "7f95cf25-37c7-4da9-b216-d7da1a0fde91",
   "metadata": {},
   "outputs": [],
   "source": [
    "allRatings['cup_size'] = allRatings['bust size'].str.extract(r'([A-Za-z]+)')\n",
    "\n",
    "# Encode the cup size alphabetically (A = 1, B = 2, ..., AA = 27)\n",
    "allRatings['cup_size_encoded'] = allRatings['cup_size'].apply(lambda x: sum([(ord(char) - 64) for char in x.upper()]) if pd.notna(x) else 0)"
   ]
  },
  {
   "cell_type": "code",
   "execution_count": 17,
   "id": "c36204c4-f14d-4b4e-8fed-7be2620ffbf9",
   "metadata": {},
   "outputs": [],
   "source": [
    "# combine bust numeric and cup size as a single feature\n",
    "allRatings['bust_combined'] = allRatings['bust_numeric'] + allRatings['cup_size_encoded'] * 0.1"
   ]
  },
  {
   "cell_type": "code",
   "execution_count": 18,
   "id": "d68d425a-eb70-4f9f-9e3b-672ba44fb25e",
   "metadata": {},
   "outputs": [
    {
     "data": {
      "text/plain": [
       "fit                                                               fit\n",
       "user_id                                                        420272\n",
       "bust size                                                         34d\n",
       "item_id                                                       2260466\n",
       "weight                                                            137\n",
       "rating                                                             10\n",
       "rented for                                                   vacation\n",
       "review_text         An adorable romper! Belt and zipper were a lit...\n",
       "body type                                                   hourglass\n",
       "review_summary                                   So many compliments!\n",
       "category                                                       romper\n",
       "height                                                             68\n",
       "size                                                               14\n",
       "age                                                                28\n",
       "review_date                                            April 20, 2016\n",
       "bust_numeric                                                       34\n",
       "cup_size                                                            d\n",
       "cup_size_encoded                                                    4\n",
       "bust_combined                                                    34.4\n",
       "Name: 0, dtype: object"
      ]
     },
     "execution_count": 18,
     "metadata": {},
     "output_type": "execute_result"
    }
   ],
   "source": [
    "allRatings.iloc[0]"
   ]
  },
  {
   "cell_type": "code",
   "execution_count": 19,
   "id": "8a9fd0c9-0f04-426e-8b0c-f52e5df77352",
   "metadata": {},
   "outputs": [],
   "source": [
    "allRatings['rating'] = allRatings['rating'].astype(int)"
   ]
  },
  {
   "cell_type": "code",
   "execution_count": 20,
   "id": "b9a57a11-0d74-4960-be44-e0578a237af4",
   "metadata": {},
   "outputs": [],
   "source": [
    "# allRatings = pd.get_dummies(allRatings, columns=['body type'], drop_first=True)"
   ]
  },
  {
   "cell_type": "code",
   "execution_count": 21,
   "id": "c5ac6971-cf37-4a23-aec5-0b3113284f8d",
   "metadata": {},
   "outputs": [],
   "source": [
    "allRatings.drop(columns=['bust size', 'review_date', 'cup_size', 'cup_size_encoded', 'review_text', 'review_summary', 'bust_numeric'], inplace = True)"
   ]
  },
  {
   "cell_type": "code",
   "execution_count": 22,
   "id": "2980822c-91e3-47a3-998e-e244259d3464",
   "metadata": {
    "scrolled": true
   },
   "outputs": [
    {
     "data": {
      "text/html": [
       "<div>\n",
       "<style scoped>\n",
       "    .dataframe tbody tr th:only-of-type {\n",
       "        vertical-align: middle;\n",
       "    }\n",
       "\n",
       "    .dataframe tbody tr th {\n",
       "        vertical-align: top;\n",
       "    }\n",
       "\n",
       "    .dataframe thead th {\n",
       "        text-align: right;\n",
       "    }\n",
       "</style>\n",
       "<table border=\"1\" class=\"dataframe\">\n",
       "  <thead>\n",
       "    <tr style=\"text-align: right;\">\n",
       "      <th></th>\n",
       "      <th>fit</th>\n",
       "      <th>user_id</th>\n",
       "      <th>item_id</th>\n",
       "      <th>weight</th>\n",
       "      <th>rating</th>\n",
       "      <th>rented for</th>\n",
       "      <th>body type</th>\n",
       "      <th>category</th>\n",
       "      <th>height</th>\n",
       "      <th>size</th>\n",
       "      <th>age</th>\n",
       "      <th>bust_combined</th>\n",
       "    </tr>\n",
       "  </thead>\n",
       "  <tbody>\n",
       "    <tr>\n",
       "      <th>0</th>\n",
       "      <td>fit</td>\n",
       "      <td>420272</td>\n",
       "      <td>2260466</td>\n",
       "      <td>137</td>\n",
       "      <td>10</td>\n",
       "      <td>vacation</td>\n",
       "      <td>hourglass</td>\n",
       "      <td>romper</td>\n",
       "      <td>68</td>\n",
       "      <td>14</td>\n",
       "      <td>28</td>\n",
       "      <td>34.4</td>\n",
       "    </tr>\n",
       "    <tr>\n",
       "      <th>1</th>\n",
       "      <td>fit</td>\n",
       "      <td>273551</td>\n",
       "      <td>153475</td>\n",
       "      <td>132</td>\n",
       "      <td>10</td>\n",
       "      <td>other</td>\n",
       "      <td>straight &amp; narrow</td>\n",
       "      <td>gown</td>\n",
       "      <td>66</td>\n",
       "      <td>12</td>\n",
       "      <td>36</td>\n",
       "      <td>34.2</td>\n",
       "    </tr>\n",
       "    <tr>\n",
       "      <th>3</th>\n",
       "      <td>fit</td>\n",
       "      <td>909926</td>\n",
       "      <td>126335</td>\n",
       "      <td>135</td>\n",
       "      <td>8</td>\n",
       "      <td>formal affair</td>\n",
       "      <td>pear</td>\n",
       "      <td>dress</td>\n",
       "      <td>65</td>\n",
       "      <td>8</td>\n",
       "      <td>34</td>\n",
       "      <td>34.3</td>\n",
       "    </tr>\n",
       "    <tr>\n",
       "      <th>4</th>\n",
       "      <td>fit</td>\n",
       "      <td>151944</td>\n",
       "      <td>616682</td>\n",
       "      <td>145</td>\n",
       "      <td>10</td>\n",
       "      <td>wedding</td>\n",
       "      <td>athletic</td>\n",
       "      <td>gown</td>\n",
       "      <td>69</td>\n",
       "      <td>12</td>\n",
       "      <td>27</td>\n",
       "      <td>34.2</td>\n",
       "    </tr>\n",
       "    <tr>\n",
       "      <th>5</th>\n",
       "      <td>fit</td>\n",
       "      <td>734848</td>\n",
       "      <td>364092</td>\n",
       "      <td>138</td>\n",
       "      <td>8</td>\n",
       "      <td>date</td>\n",
       "      <td>athletic</td>\n",
       "      <td>dress</td>\n",
       "      <td>68</td>\n",
       "      <td>8</td>\n",
       "      <td>45</td>\n",
       "      <td>32.2</td>\n",
       "    </tr>\n",
       "  </tbody>\n",
       "</table>\n",
       "</div>"
      ],
      "text/plain": [
       "   fit user_id  item_id  weight  rating     rented for          body type  \\\n",
       "0  fit  420272  2260466     137      10       vacation          hourglass   \n",
       "1  fit  273551   153475     132      10          other  straight & narrow   \n",
       "3  fit  909926   126335     135       8  formal affair               pear   \n",
       "4  fit  151944   616682     145      10        wedding           athletic   \n",
       "5  fit  734848   364092     138       8           date           athletic   \n",
       "\n",
       "  category  height  size age  bust_combined  \n",
       "0   romper      68    14  28           34.4  \n",
       "1     gown      66    12  36           34.2  \n",
       "3    dress      65     8  34           34.3  \n",
       "4     gown      69    12  27           34.2  \n",
       "5    dress      68     8  45           32.2  "
      ]
     },
     "execution_count": 22,
     "metadata": {},
     "output_type": "execute_result"
    }
   ],
   "source": [
    "allRatings.head()"
   ]
  },
  {
   "cell_type": "code",
   "execution_count": 23,
   "id": "80475cf4-930c-49ab-8e35-228b8e88f0f2",
   "metadata": {},
   "outputs": [],
   "source": [
    "allRatings['user_id'] = allRatings['user_id'].astype(str)\n",
    "allRatings['item_id'] = allRatings['item_id'].astype(str)"
   ]
  },
  {
   "cell_type": "code",
   "execution_count": 24,
   "id": "65cbd27d-fb6b-4e99-9852-71447bd38919",
   "metadata": {},
   "outputs": [],
   "source": [
    "# Create a user-item interaction matrix\n",
    "user_item_matrix = allRatings.pivot_table(index='user_id', columns='item_id', values='rating', fill_value=0)\n"
   ]
  },
  {
   "cell_type": "code",
   "execution_count": 25,
   "id": "9145ff42-ce4d-4318-85d1-2dd0d4d009ee",
   "metadata": {},
   "outputs": [
    {
     "name": "stdout",
     "output_type": "stream",
     "text": [
      "Requirement already satisfied: surprise in /opt/anaconda3/lib/python3.12/site-packages (0.1)\n",
      "Requirement already satisfied: scikit-surprise in /opt/anaconda3/lib/python3.12/site-packages (from surprise) (1.1.4)\n",
      "Requirement already satisfied: joblib>=1.2.0 in /opt/anaconda3/lib/python3.12/site-packages (from scikit-surprise->surprise) (1.4.2)\n",
      "Requirement already satisfied: numpy>=1.19.5 in /opt/anaconda3/lib/python3.12/site-packages (from scikit-surprise->surprise) (1.26.4)\n",
      "Requirement already satisfied: scipy>=1.6.0 in /opt/anaconda3/lib/python3.12/site-packages (from scikit-surprise->surprise) (1.12.0)\n",
      "Note: you may need to restart the kernel to use updated packages.\n"
     ]
    }
   ],
   "source": [
    "pip install surprise"
   ]
  },
  {
   "cell_type": "code",
   "execution_count": 26,
   "id": "1c1aaa81-85fa-4d49-94e5-98936d10afc2",
   "metadata": {},
   "outputs": [
    {
     "name": "stdout",
     "output_type": "stream",
     "text": [
      "RMSE: 1.4073\n"
     ]
    }
   ],
   "source": [
    "from surprise import SVD, Dataset, Reader\n",
    "from surprise.model_selection import train_test_split\n",
    "from surprise import accuracy\n",
    "\n",
    "# Convert the DataFrame to a Surprise Dataset\n",
    "reader = Reader(rating_scale=(1, 10))\n",
    "data = Dataset.load_from_df(allRatings[['user_id', 'item_id', 'rating']], reader)\n",
    "trainset, testset = train_test_split(data, test_size=0.2)\n",
    "\n",
    "# Apply SVD\n",
    "svd = SVD()\n",
    "svd.fit(trainset)\n",
    "\n",
    "# Predictions\n",
    "predictions = svd.test(testset)\n",
    "accuracy.rmse(predictions)\n",
    "\n",
    "# Generate top recommendations for a user\n",
    "user_id = '420272'  # Example user\n",
    "recommendations = []\n",
    "for item_id in user_item_matrix.columns:\n",
    "    pred = svd.predict(user_id, item_id)\n",
    "    recommendations.append((item_id, pred.est))\n",
    "\n",
    "# Sort recommendations by predicted rating\n",
    "recommendations.sort(key=lambda x: x[1], reverse=True)\n",
    "top_recommendations = recommendations[:5]  # Top 5 recommended items\n"
   ]
  },
  {
   "cell_type": "code",
   "execution_count": 27,
   "id": "51be287b-a505-4409-9b5a-c5c0a83f6a32",
   "metadata": {},
   "outputs": [
    {
     "data": {
      "text/plain": [
       "[('1312996', 9.984366796209635),\n",
       " ('1215281', 9.959987573213724),\n",
       " ('1335648', 9.946120491873826),\n",
       " ('278878', 9.9377352910563),\n",
       " ('1584094', 9.916303991075198)]"
      ]
     },
     "execution_count": 27,
     "metadata": {},
     "output_type": "execute_result"
    }
   ],
   "source": [
    "top_recommendations"
   ]
  },
  {
   "cell_type": "code",
   "execution_count": null,
   "id": "a2329407-9298-4db8-958e-38b1226fa59e",
   "metadata": {
    "scrolled": true
   },
   "outputs": [],
   "source": [
    "from sklearn.feature_extraction.text import TfidfVectorizer\n",
    "from sklearn.metrics.pairwise import cosine_similarity\n",
    "\n",
    "# Example of using the 'category' and 'body type' as features for item profiles\n",
    "item_features = allRatings[['category', 'body type']].apply(lambda row: ' '.join(row.astype(str)), axis=1)\n",
    "\n",
    "# Use TF-IDF to vectorize these features\n",
    "vectorizer = TfidfVectorizer(stop_words='english')\n",
    "item_profiles = vectorizer.fit_transform(item_features)\n",
    "\n",
    "# Compute similarity between items\n",
    "item_similarity = cosine_similarity(item_profiles, item_profiles)\n",
    "\n",
    "# Convert to DataFrame for easier access\n",
    "item_similarity_df = pd.DataFrame(item_similarity, index=allRatings['item_id'], columns=allRatings['item_id'])\n",
    "\n",
    "# Example: Get similar items for a given item\n",
    "item_id = '2260466'  # Example item\n",
    "similar_items = item_similarity_df[item_id].sort_values(ascending=False).head(5)\n"
   ]
  },
  {
   "cell_type": "code",
   "execution_count": null,
   "id": "792bfcd7-884b-415f-8322-16a40818b647",
   "metadata": {},
   "outputs": [],
   "source": []
  }
 ],
 "metadata": {
  "kernelspec": {
   "display_name": "Python 3 (ipykernel)",
   "language": "python",
   "name": "python3"
  },
  "language_info": {
   "codemirror_mode": {
    "name": "ipython",
    "version": 3
   },
   "file_extension": ".py",
   "mimetype": "text/x-python",
   "name": "python",
   "nbconvert_exporter": "python",
   "pygments_lexer": "ipython3",
   "version": "3.12.3"
  }
 },
 "nbformat": 4,
 "nbformat_minor": 5
}
