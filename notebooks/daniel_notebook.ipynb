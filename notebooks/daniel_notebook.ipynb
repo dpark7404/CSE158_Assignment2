{
 "cells": [
  {
   "cell_type": "markdown",
   "id": "139e1837",
   "metadata": {},
   "source": [
    "# EDA"
   ]
  },
  {
   "cell_type": "code",
   "execution_count": 66,
   "id": "22b5e94d",
   "metadata": {},
   "outputs": [
    {
     "name": "stdout",
     "output_type": "stream",
     "text": [
      "Requirement already satisfied: scikit-learn in /Users/dpark_23/anaconda3/lib/python3.11/site-packages (1.5.2)\n",
      "Requirement already satisfied: imbalanced-learn in /Users/dpark_23/anaconda3/lib/python3.11/site-packages (0.12.4)\n",
      "Requirement already satisfied: numpy>=1.19.5 in /Users/dpark_23/anaconda3/lib/python3.11/site-packages (from scikit-learn) (1.26.4)\n",
      "Requirement already satisfied: scipy>=1.6.0 in /Users/dpark_23/anaconda3/lib/python3.11/site-packages (from scikit-learn) (1.14.1)\n",
      "Requirement already satisfied: joblib>=1.2.0 in /Users/dpark_23/anaconda3/lib/python3.11/site-packages (from scikit-learn) (1.2.0)\n",
      "Requirement already satisfied: threadpoolctl>=3.1.0 in /Users/dpark_23/anaconda3/lib/python3.11/site-packages (from scikit-learn) (3.5.0)\n",
      "Note: you may need to restart the kernel to use updated packages.\n"
     ]
    }
   ],
   "source": [
    "pip install --upgrade scikit-learn imbalanced-learn"
   ]
  },
  {
   "cell_type": "code",
   "execution_count": 67,
   "id": "921b1613",
   "metadata": {},
   "outputs": [
    {
     "name": "stdout",
     "output_type": "stream",
     "text": [
      "Requirement already satisfied: imblearn in /Users/dpark_23/anaconda3/lib/python3.11/site-packages (0.0)\n",
      "Requirement already satisfied: imbalanced-learn in /Users/dpark_23/anaconda3/lib/python3.11/site-packages (from imblearn) (0.12.4)\n",
      "Requirement already satisfied: numpy>=1.17.3 in /Users/dpark_23/anaconda3/lib/python3.11/site-packages (from imbalanced-learn->imblearn) (1.26.4)\n",
      "Requirement already satisfied: scipy>=1.5.0 in /Users/dpark_23/anaconda3/lib/python3.11/site-packages (from imbalanced-learn->imblearn) (1.14.1)\n",
      "Requirement already satisfied: scikit-learn>=1.0.2 in /Users/dpark_23/anaconda3/lib/python3.11/site-packages (from imbalanced-learn->imblearn) (1.5.2)\n",
      "Requirement already satisfied: joblib>=1.1.1 in /Users/dpark_23/anaconda3/lib/python3.11/site-packages (from imbalanced-learn->imblearn) (1.2.0)\n",
      "Requirement already satisfied: threadpoolctl>=2.0.0 in /Users/dpark_23/anaconda3/lib/python3.11/site-packages (from imbalanced-learn->imblearn) (3.5.0)\n"
     ]
    }
   ],
   "source": [
    "!pip install imblearn"
   ]
  },
  {
   "cell_type": "code",
   "execution_count": 68,
   "id": "dd899e7b",
   "metadata": {
    "scrolled": true
   },
   "outputs": [
    {
     "name": "stdout",
     "output_type": "stream",
     "text": [
      "Requirement already satisfied: wordcloud in /Users/dpark_23/anaconda3/lib/python3.11/site-packages (1.9.4)\n",
      "Requirement already satisfied: numpy>=1.6.1 in /Users/dpark_23/anaconda3/lib/python3.11/site-packages (from wordcloud) (1.26.4)\n",
      "Requirement already satisfied: pillow in /Users/dpark_23/anaconda3/lib/python3.11/site-packages (from wordcloud) (9.4.0)\n",
      "Requirement already satisfied: matplotlib in /Users/dpark_23/anaconda3/lib/python3.11/site-packages (from wordcloud) (3.7.2)\n",
      "Requirement already satisfied: contourpy>=1.0.1 in /Users/dpark_23/anaconda3/lib/python3.11/site-packages (from matplotlib->wordcloud) (1.0.5)\n",
      "Requirement already satisfied: cycler>=0.10 in /Users/dpark_23/anaconda3/lib/python3.11/site-packages (from matplotlib->wordcloud) (0.11.0)\n",
      "Requirement already satisfied: fonttools>=4.22.0 in /Users/dpark_23/anaconda3/lib/python3.11/site-packages (from matplotlib->wordcloud) (4.25.0)\n",
      "Requirement already satisfied: kiwisolver>=1.0.1 in /Users/dpark_23/anaconda3/lib/python3.11/site-packages (from matplotlib->wordcloud) (1.4.4)\n",
      "Requirement already satisfied: packaging>=20.0 in /Users/dpark_23/anaconda3/lib/python3.11/site-packages (from matplotlib->wordcloud) (23.1)\n",
      "Requirement already satisfied: pyparsing<3.1,>=2.3.1 in /Users/dpark_23/anaconda3/lib/python3.11/site-packages (from matplotlib->wordcloud) (3.0.9)\n",
      "Requirement already satisfied: python-dateutil>=2.7 in /Users/dpark_23/anaconda3/lib/python3.11/site-packages (from matplotlib->wordcloud) (2.8.2)\n",
      "Requirement already satisfied: six>=1.5 in /Users/dpark_23/anaconda3/lib/python3.11/site-packages (from python-dateutil>=2.7->matplotlib->wordcloud) (1.16.0)\n"
     ]
    }
   ],
   "source": [
    "!pip install wordcloud"
   ]
  },
  {
   "cell_type": "code",
   "execution_count": 69,
   "id": "f8e118a7",
   "metadata": {},
   "outputs": [
    {
     "name": "stdout",
     "output_type": "stream",
     "text": [
      "Requirement already satisfied: textblob in /Users/dpark_23/anaconda3/lib/python3.11/site-packages (0.18.0.post0)\r\n",
      "Requirement already satisfied: nltk>=3.8 in /Users/dpark_23/anaconda3/lib/python3.11/site-packages (from textblob) (3.8.1)\r\n",
      "Requirement already satisfied: click in /Users/dpark_23/anaconda3/lib/python3.11/site-packages (from nltk>=3.8->textblob) (8.0.4)\r\n",
      "Requirement already satisfied: joblib in /Users/dpark_23/anaconda3/lib/python3.11/site-packages (from nltk>=3.8->textblob) (1.2.0)\r\n",
      "Requirement already satisfied: regex>=2021.8.3 in /Users/dpark_23/anaconda3/lib/python3.11/site-packages (from nltk>=3.8->textblob) (2022.7.9)\r\n",
      "Requirement already satisfied: tqdm in /Users/dpark_23/anaconda3/lib/python3.11/site-packages (from nltk>=3.8->textblob) (4.65.0)\r\n"
     ]
    }
   ],
   "source": [
    "!pip install textblob"
   ]
  },
  {
   "cell_type": "code",
   "execution_count": 70,
   "id": "6b2baf3b",
   "metadata": {},
   "outputs": [
    {
     "name": "stdout",
     "output_type": "stream",
     "text": [
      "Requirement already satisfied: nltk in /Users/dpark_23/anaconda3/lib/python3.11/site-packages (3.8.1)\r\n",
      "Requirement already satisfied: textblob in /Users/dpark_23/anaconda3/lib/python3.11/site-packages (0.18.0.post0)\r\n",
      "Requirement already satisfied: click in /Users/dpark_23/anaconda3/lib/python3.11/site-packages (from nltk) (8.0.4)\r\n",
      "Requirement already satisfied: joblib in /Users/dpark_23/anaconda3/lib/python3.11/site-packages (from nltk) (1.2.0)\r\n",
      "Requirement already satisfied: regex>=2021.8.3 in /Users/dpark_23/anaconda3/lib/python3.11/site-packages (from nltk) (2022.7.9)\r\n",
      "Requirement already satisfied: tqdm in /Users/dpark_23/anaconda3/lib/python3.11/site-packages (from nltk) (4.65.0)\r\n"
     ]
    }
   ],
   "source": [
    "!pip install nltk textblob"
   ]
  },
  {
   "cell_type": "code",
   "execution_count": 71,
   "id": "02783f1f",
   "metadata": {},
   "outputs": [],
   "source": [
    "from wordcloud import WordCloud, STOPWORDS\n",
    "import pandas as pd\n",
    "import matplotlib.pyplot as plt\n",
    "import seaborn as sns"
   ]
  },
  {
   "cell_type": "code",
   "execution_count": 72,
   "id": "bf59cac2",
   "metadata": {},
   "outputs": [],
   "source": [
    "file_path = 'renttherunway_final_data.json'\n",
    "data = pd.read_json(file_path, lines=True)"
   ]
  },
  {
   "cell_type": "markdown",
   "id": "875ca40c",
   "metadata": {},
   "source": [
    "### Dataset Description\n",
    "This dataset contains information about clothing rentals, with attributes that describe both the clothing and the users who rent them.\n",
    "\n",
    "#### **User Information**:\n",
    "- **user_id**: Unique identifier for the user\n",
    "- **age**: Age of the user\n",
    "- **height**: Height of the user\n",
    "- **weight**: Weight of the user\n",
    "- **bust size**: Size of the user's bust\n",
    "- **body type**: Body shape (e.g., hourglass, pear, etc.)\n",
    "\n",
    "#### **Item Information**:\n",
    "- **item_id**: Unique identifier for the item\n",
    "- **category**: Category of the item (e.g., romper, gown, dress, etc.)\n",
    "- **size**: Size of the item rented\n",
    "- **rating**: Rating given to the item (out of 10)\n",
    "- **fit**: The fit status of the item (e.g., \"fit\" or \"not fit\")\n",
    "- **rented for**: Reason for renting the item (e.g., vacation, wedding, formal affair)\n",
    "- **review_text**: Review of the item\n",
    "- **review_summary**: Summary of the review\n",
    "- **review_date**: Date of the review"
   ]
  },
  {
   "cell_type": "code",
   "execution_count": 73,
   "id": "ca391de6",
   "metadata": {},
   "outputs": [
    {
     "data": {
      "text/plain": [
       "fit                object\n",
       "user_id             int64\n",
       "bust size          object\n",
       "item_id             int64\n",
       "weight             object\n",
       "rating            float64\n",
       "rented for         object\n",
       "review_text        object\n",
       "body type          object\n",
       "review_summary     object\n",
       "category           object\n",
       "height             object\n",
       "size                int64\n",
       "age               float64\n",
       "review_date        object\n",
       "dtype: object"
      ]
     },
     "execution_count": 73,
     "metadata": {},
     "output_type": "execute_result"
    }
   ],
   "source": [
    "# checking data types\n",
    "data.dtypes"
   ]
  },
  {
   "cell_type": "code",
   "execution_count": 74,
   "id": "a73097c1",
   "metadata": {},
   "outputs": [
    {
     "data": {
      "text/plain": [
       "<bound method NDFrame.describe of         fit  user_id bust size  item_id  weight  rating     rented for  \\\n",
       "0       fit   420272       34d  2260466  137lbs    10.0       vacation   \n",
       "1       fit   273551       34b   153475  132lbs    10.0          other   \n",
       "2       fit   360448       NaN  1063761     NaN    10.0          party   \n",
       "3       fit   909926       34c   126335  135lbs     8.0  formal affair   \n",
       "4       fit   151944       34b   616682  145lbs    10.0        wedding   \n",
       "...     ...      ...       ...      ...     ...     ...            ...   \n",
       "192539  fit    66386      34dd  2252812  140lbs    10.0           work   \n",
       "192540  fit   118398       32c   682043  100lbs    10.0           work   \n",
       "192541  fit    47002       36a   683251  135lbs     6.0       everyday   \n",
       "192542  fit   961120       36c   126335  165lbs    10.0        wedding   \n",
       "192543  fit   123612       36b   127865  155lbs    10.0        wedding   \n",
       "\n",
       "                                              review_text          body type  \\\n",
       "0       An adorable romper! Belt and zipper were a lit...          hourglass   \n",
       "1       I rented this dress for a photo shoot. The the...  straight & narrow   \n",
       "2       This hugged in all the right places! It was a ...                NaN   \n",
       "3       I rented this for my company's black tie award...               pear   \n",
       "4       I have always been petite in my upper body and...           athletic   \n",
       "...                                                   ...                ...   \n",
       "192539                                  Fit like a glove!          hourglass   \n",
       "192540  The pattern contrast on this dress is really s...             petite   \n",
       "192541  Like the other DVF wraps, the fit on this is f...  straight & narrow   \n",
       "192542  This dress was PERFECTION.  it looked incredib...               pear   \n",
       "192543  This dress was wonderful! I had originally pla...           athletic   \n",
       "\n",
       "                                           review_summary  category height  \\\n",
       "0                                    So many compliments!    romper  5' 8\"   \n",
       "1                                 I felt so glamourous!!!      gown  5' 6\"   \n",
       "2       It was a great time to celebrate the (almost) ...    sheath  5' 4\"   \n",
       "3        Dress arrived on time and in perfect condition.      dress  5' 5\"   \n",
       "4                         Was in love with this dress !!!      gown  5' 9\"   \n",
       "...                                                   ...       ...    ...   \n",
       "192539       LOVE IT!!! First Item Im thinking of buying!  jumpsuit  5' 9\"   \n",
       "192540                                           LOVE it!     dress  5' 1\"   \n",
       "192541                    Loud patterning, flattering fit     dress  5' 8\"   \n",
       "192542  loved this dress it was comfortable and photog...     dress  5' 6\"   \n",
       "192543  I wore this to a beautiful black tie optional ...      gown  5' 6\"   \n",
       "\n",
       "        size    age         review_date  \n",
       "0         14   28.0      April 20, 2016  \n",
       "1         12   36.0       June 18, 2013  \n",
       "2          4  116.0   December 14, 2015  \n",
       "3          8   34.0   February 12, 2014  \n",
       "4         12   27.0  September 26, 2016  \n",
       "...      ...    ...                 ...  \n",
       "192539     8   42.0        May 18, 2016  \n",
       "192540     4   29.0  September 30, 2016  \n",
       "192541     8   31.0       March 4, 2016  \n",
       "192542    16   31.0   November 25, 2015  \n",
       "192543    16   30.0     August 29, 2017  \n",
       "\n",
       "[192544 rows x 15 columns]>"
      ]
     },
     "execution_count": 74,
     "metadata": {},
     "output_type": "execute_result"
    }
   ],
   "source": [
    "# looking at statistics for basic numerical features\n",
    "data.describe"
   ]
  },
  {
   "cell_type": "code",
   "execution_count": 75,
   "id": "7a9c83a6",
   "metadata": {},
   "outputs": [
    {
     "data": {
      "text/plain": [
       "(body type\n",
       " hourglass            55349\n",
       " athletic             43667\n",
       " pear                 22135\n",
       " petite               22131\n",
       " full bust            15006\n",
       " straight & narrow    14742\n",
       " apple                 4877\n",
       " Name: count, dtype: int64,\n",
       " category\n",
       " dress         92884\n",
       " gown          44381\n",
       " sheath        19316\n",
       " shift          5365\n",
       " jumpsuit       5184\n",
       "               ...  \n",
       " caftan            4\n",
       " overcoat          2\n",
       " sweatpants        2\n",
       " crewneck          1\n",
       " buttondown        1\n",
       " Name: count, Length: 68, dtype: int64,\n",
       " fit\n",
       " fit      142058\n",
       " small     25779\n",
       " large     24707\n",
       " Name: count, dtype: int64)"
      ]
     },
     "execution_count": 75,
     "metadata": {},
     "output_type": "execute_result"
    }
   ],
   "source": [
    "# unique values in categorical columns\n",
    "data['body type'].value_counts(), data['category'].value_counts(), data['fit'].value_counts()"
   ]
  },
  {
   "cell_type": "code",
   "execution_count": 76,
   "id": "b3bdf6e8",
   "metadata": {},
   "outputs": [
    {
     "name": "stdout",
     "output_type": "stream",
     "text": [
      "Fit Type  Count Percentage\n",
      "     fit 142058      73.8%\n",
      "   small  25779      13.4%\n",
      "   large  24707      12.8%\n"
     ]
    }
   ],
   "source": [
    "# Calculate counts and percentages\n",
    "fit_counts = data['fit'].value_counts()\n",
    "fit_percentage = data['fit'].value_counts(normalize=True) * 100\n",
    "fit_percentage = fit_percentage[['fit', 'small', 'large']]\n",
    "\n",
    "# Combine counts and percentages into a DataFrame\n",
    "fit_table = pd.DataFrame({\n",
    "    \"Fit Type\": fit_counts.index,\n",
    "    \"Count\": fit_counts.values,\n",
    "    \"Percentage\": fit_percentage.values\n",
    "})\n",
    "\n",
    "# Format percentages as integers with %\n",
    "fit_table['Percentage'] = fit_table['Percentage'].round(1).astype(str) + \"%\"\n",
    "\n",
    "print(fit_table.to_string(index=False))"
   ]
  },
  {
   "cell_type": "markdown",
   "id": "bce34e64",
   "metadata": {},
   "source": [
    "### This EDA visualizes the relationship between body type and fit categories using a stacked bar chart. It shows the distribution of fit, small, and large for each body type, helping identify patterns in how fit varies across body types."
   ]
  },
  {
   "cell_type": "code",
   "execution_count": 77,
   "id": "bf6c8037",
   "metadata": {},
   "outputs": [
    {
     "data": {
      "image/png": "[encoded data removed]",
      "text/plain": [
       "<Figure size 640x480 with 1 Axes>"
      ]
     },
     "metadata": {},
     "output_type": "display_data"
    }
   ],
   "source": [
    "# body types and fit correlation\n",
    "fit_by_body_type = data.groupby('body type')['fit'].value_counts().unstack()\n",
    "colormap = plt.cm.summer\n",
    "ax = fit_by_body_type.plot(kind='bar', stacked=True, colormap=colormap)\n",
    "plt.title('Fit vs Body Type with Gradient Color')\n",
    "plt.xlabel('Body Type')\n",
    "plt.ylabel('Count')\n",
    "plt.show()"
   ]
  },
  {
   "cell_type": "markdown",
   "id": "5df7f71c",
   "metadata": {},
   "source": [
    "### This EDA visualizes the most popular clothing categories based on the number of rentals. It uses a horizontal bar chart to show categories with more than 500 rentals, highlighting which items are rented most frequently."
   ]
  },
  {
   "cell_type": "code",
   "execution_count": 78,
   "id": "41434628",
   "metadata": {},
   "outputs": [
    {
     "data": {
      "image/png": "[encoded data removed]",
      "text/plain": [
       "<Figure size 1200x800 with 1 Axes>"
      ]
     },
     "metadata": {},
     "output_type": "display_data"
    }
   ],
   "source": [
    "# popular categories based on number of rentals\n",
    "rental_counts = data[\"category\"].value_counts()\n",
    "rental_counts = rental_counts[rental_counts > 500]\n",
    "\n",
    "plt.figure(figsize=(12, 8))\n",
    "sns.barplot(x=rental_counts.values, y=rental_counts.index, palette=\"plasma\")\n",
    "plt.title(\"Most Popular Categories Based on Rentals\", fontsize=16)\n",
    "plt.xlabel(\"Number of Rentals\", fontsize=14)\n",
    "plt.ylabel(\"Category\", fontsize=14)\n",
    "plt.xticks(fontsize=12)\n",
    "plt.yticks(fontsize=12)\n",
    "plt.show()"
   ]
  },
  {
   "cell_type": "markdown",
   "id": "8392a699",
   "metadata": {},
   "source": [
    "### This EDA visualizes the distribution of body types in the dataset, using a bar chart to show the frequency of each body type. It highlights the most common body types, providing insight into the variety of body types represented in the data."
   ]
  },
  {
   "cell_type": "code",
   "execution_count": 79,
   "id": "2e559d01",
   "metadata": {},
   "outputs": [
    {
     "data": {
      "image/png": "[encoded data removed]",
      "text/plain": [
       "<Figure size 800x500 with 1 Axes>"
      ]
     },
     "metadata": {},
     "output_type": "display_data"
    }
   ],
   "source": [
    "# common body types\n",
    "body_type_counts = data['body type'].value_counts()\n",
    "plt.figure(figsize=(8, 5))\n",
    "sns.barplot(x=body_type_counts.index, y=body_type_counts.values, palette=\"Set2\")\n",
    "plt.title(\"Most Common Body Types\", fontsize=14)\n",
    "plt.xlabel(\"Body Type\", fontsize=12)\n",
    "plt.ylabel(\"Count\", fontsize=12)\n",
    "plt.xticks(rotation=30, fontsize=10)\n",
    "plt.yticks(fontsize=10)\n",
    "plt.show()"
   ]
  },
  {
   "cell_type": "markdown",
   "id": "0d165678",
   "metadata": {},
   "source": [
    "### This EDA visualizes the relationship between height and rented size using a scatter plot, showing how the height of individuals correlates with the sizes they rent. It helps identify any trends or patterns in sizing preferences based on height."
   ]
  },
  {
   "cell_type": "code",
   "execution_count": 80,
   "id": "588214fa",
   "metadata": {},
   "outputs": [
    {
     "name": "stdout",
     "output_type": "stream",
     "text": [
      "                       weight  height_inches\n",
      "body type                                   \n",
      "apple              157.222473      64.944821\n",
      "full bust          148.572782      65.130922\n",
      "pear               144.627623      65.577128\n",
      "hourglass          143.774148      65.446737\n",
      "athletic           135.854104      65.931618\n",
      "straight & narrow  125.624741      66.823778\n",
      "petite             116.552018      62.376526\n"
     ]
    },
    {
     "data": {
      "text/plain": [
       "<Figure size 1000x500 with 0 Axes>"
      ]
     },
     "metadata": {},
     "output_type": "display_data"
    },
    {
     "data": {
      "image/png": "[encoded data removed]",
      "text/plain": [
       "<Figure size 1200x600 with 1 Axes>"
      ]
     },
     "metadata": {},
     "output_type": "display_data"
    }
   ],
   "source": [
    "import numpy as np\n",
    "file_path = 'renttherunway_final_data.json'\n",
    "data = pd.read_json(file_path, lines=True)\n",
    "\n",
    "data['weight'] = data['weight'].str.replace('lbs', '').astype(float)\n",
    "data = data.dropna(subset=['weight'])\n",
    "height_parsed = data['height'].str.extract(r'(\\d+)\\'\\s*(\\d+)\\\"')\n",
    "height_parsed = height_parsed.dropna().astype(int)\n",
    "data['height_inches'] = (height_parsed[0] * 12) + height_parsed[1]\n",
    "data = data.dropna(subset=['height_inches'])\n",
    "data = data.dropna(subset=['body type'])\n",
    "summary = data.groupby('body type')[['weight', 'height_inches']].mean().sort_values(by='weight', ascending=False)\n",
    "\n",
    "print(summary)\n",
    "\n",
    "plt.figure(figsize=(10, 5))\n",
    "summary.plot(kind='bar', figsize=(12, 6), color=['skyblue', 'orange'])\n",
    "plt.title('Average Weight and Height by Body Type', fontsize=14)\n",
    "plt.ylabel('Average Values', fontsize=12)\n",
    "plt.xticks(rotation=45, fontsize=10)\n",
    "plt.legend(['Weight (lbs)', 'Height (inches)'])\n",
    "plt.show()"
   ]
  },
  {
   "cell_type": "markdown",
   "id": "a96b40be",
   "metadata": {},
   "source": [
    "# Recommender "
   ]
  },
  {
   "cell_type": "code",
   "execution_count": 81,
   "id": "ef210e6a",
   "metadata": {},
   "outputs": [],
   "source": [
    "import pandas as pd\n",
    "import numpy as np\n",
    "from sklearn.model_selection import train_test_split\n",
    "from sklearn.preprocessing import StandardScaler, LabelEncoder\n",
    "from sklearn.ensemble import RandomForestClassifier\n",
    "from sklearn.metrics import accuracy_score, classification_report, confusion_matrix\n",
    "import matplotlib.pyplot as plt\n",
    "import seaborn as sns"
   ]
  },
  {
   "cell_type": "code",
   "execution_count": 82,
   "id": "4b492b82",
   "metadata": {},
   "outputs": [],
   "source": [
    "file_path = 'renttherunway_final_data.json'\n",
    "data = pd.read_json(file_path, lines=True)"
   ]
  },
  {
   "cell_type": "code",
   "execution_count": 83,
   "id": "5b4ceda9",
   "metadata": {},
   "outputs": [],
   "source": [
    "# import pandas as pd\n",
    "# from sklearn.metrics.pairwise import cosine_similarity\n",
    "# from sklearn.preprocessing import StandardScaler, LabelEncoder\n",
    "\n",
    "# file_path = 'renttherunway_final_data.json'  # Replace with your file path\n",
    "# data = pd.read_json(file_path, lines=True)\n",
    "\n",
    "# data_cleaned = data.dropna(subset=['height', 'weight', 'body type', 'rented for', 'size'])\n",
    "\n",
    "# # preprocessing data\n",
    "# def convert_height_to_inches(height):\n",
    "#     if isinstance(height, str) and \"'\" in height:\n",
    "#         feet, inches = height.split(\"'\")\n",
    "#         return int(feet) * 12 + int(inches.replace('\"', ''))\n",
    "#     return None\n",
    "\n",
    "# data_cleaned['height'] = data_cleaned['height'].apply(convert_height_to_inches)\n",
    "# data_cleaned['weight'] = data_cleaned['weight'].str.replace('lbs', '').astype(float)\n",
    "\n",
    "# le_body_type = LabelEncoder()\n",
    "# data_cleaned['body_type_encoded'] = le_body_type.fit_transform(data_cleaned['body type'].astype(str))\n",
    "\n",
    "# le_rented_for = LabelEncoder()\n",
    "# data_cleaned['rented_for_encoded'] = le_rented_for.fit_transform(data_cleaned['rented for'].astype(str))\n",
    "\n",
    "# # print(\"Body Type Encoding Mapping:\")\n",
    "# # print(dict(zip(le_body_type.classes_, range(len(le_body_type.classes_)))))\n",
    "# # print(\"\\nRented For Encoding Mapping:\")\n",
    "# # print(dict(zip(le_rented_for.classes_, range(len(le_rented_for.classes_)))))\n",
    "\n",
    "# # normalize numerical features\n",
    "# scaler = StandardScaler()\n",
    "# data_cleaned[['height', 'weight']] = scaler.fit_transform(data_cleaned[['height', 'weight']])\n",
    "\n",
    "# # define features\n",
    "# features = ['height', 'weight', 'body_type_encoded', 'rented_for_encoded']\n",
    "# X_cleaned = data_cleaned[features]\n",
    "\n",
    "# # user profile\n",
    "# user_profile = [59, 140, 3, 4]  # example: height=60 inches, weight=130 lbs, body_type=3 (hourglass), rented_for=4 (party)\n",
    "\n",
    "# user_profile_scaled = scaler.transform([user_profile[:2]])[0].tolist() + user_profile[2:]\n",
    "\n",
    "# def find_similar_users(user_profile, X):\n",
    "#     user_profile_df = pd.DataFrame([user_profile], columns=X.columns)\n",
    "#     similarity_scores = cosine_similarity(user_profile_df, X)\n",
    "#     similarity_scores = similarity_scores.flatten()\n",
    "#     similar_users_indices = similarity_scores.argsort()[-5:][::-1]\n",
    "#     return similar_users_indices, similarity_scores\n",
    "\n",
    "# similar_users_indices, similarity_scores = find_similar_users(user_profile_scaled, X_cleaned)\n",
    "\n",
    "# print(\"Most similar users' rented items and statistics:\")\n",
    "# for idx in similar_users_indices:\n",
    "#     user = data_cleaned.iloc[idx]\n",
    "#     print(f\"User {user['user_id']} rented item {user['item_id']} with similarity score {similarity_scores[idx]:.4f}\")\n",
    "#     print(f\"    Standardized Height: {user['height']} inches\")\n",
    "#     print(f\"    Original Height: {user['height'] * scaler.scale_[0] + scaler.mean_[0]:.2f} inches\")\n",
    "#     print(f\"    Standardized Weight: {user['weight']} lbs\")\n",
    "#     print(f\"    Original Weight: {user['weight'] * scaler.scale_[1] + scaler.mean_[1]:.2f} lbs\")\n",
    "#     print(f\"    Body Type: {user['body type']}\")\n",
    "#     print(f\"    Rented For: {user['rented for']}\")\n",
    "#     print(\"-\" * 50)  # Separator for readability"
   ]
  },
  {
   "cell_type": "code",
   "execution_count": 84,
   "id": "b206a6e4",
   "metadata": {},
   "outputs": [],
   "source": [
    "# def recommend_items(user_profile, X, data):\n",
    "#     similar_users_indices, similarity_scores = find_similar_users(user_profile, X)\n",
    "    \n",
    "#     recommended_items = []\n",
    "#     for idx in similar_users_indices:\n",
    "#         item_id = data.iloc[idx]['item_id']\n",
    "#         if item_id not in recommended_items:\n",
    "#             recommended_items.append(item_id)\n",
    "    \n",
    "#     return recommended_items\n",
    "\n",
    "# # Step 6: Get item recommendations for the input user profile\n",
    "# recommended_items = recommend_items(user_profile_scaled, X_cleaned, data_cleaned)\n",
    "# print(\"Recommended items:\", recommended_items)"
   ]
  },
  {
   "cell_type": "code",
   "execution_count": 103,
   "id": "caa5344d",
   "metadata": {},
   "outputs": [
    {
     "name": "stderr",
     "output_type": "stream",
     "text": [
      "/var/folders/00/dfc6l5fn61s09z4jy0lqyz_w0000gn/T/ipykernel_42982/1776531038.py:21: SettingWithCopyWarning: \n",
      "A value is trying to be set on a copy of a slice from a DataFrame.\n",
      "Try using .loc[row_indexer,col_indexer] = value instead\n",
      "\n",
      "See the caveats in the documentation: https://pandas.pydata.org/pandas-docs/stable/user_guide/indexing.html#returning-a-view-versus-a-copy\n",
      "  data_cleaned['height'] = data_cleaned['height'].apply(convert_height_to_inches)\n",
      "/var/folders/00/dfc6l5fn61s09z4jy0lqyz_w0000gn/T/ipykernel_42982/1776531038.py:22: SettingWithCopyWarning: \n",
      "A value is trying to be set on a copy of a slice from a DataFrame.\n",
      "Try using .loc[row_indexer,col_indexer] = value instead\n",
      "\n",
      "See the caveats in the documentation: https://pandas.pydata.org/pandas-docs/stable/user_guide/indexing.html#returning-a-view-versus-a-copy\n",
      "  data_cleaned['weight'] = data_cleaned['weight'].str.replace('lbs', '').astype(float)\n",
      "/var/folders/00/dfc6l5fn61s09z4jy0lqyz_w0000gn/T/ipykernel_42982/1776531038.py:26: SettingWithCopyWarning: \n",
      "A value is trying to be set on a copy of a slice from a DataFrame.\n",
      "Try using .loc[row_indexer,col_indexer] = value instead\n",
      "\n",
      "See the caveats in the documentation: https://pandas.pydata.org/pandas-docs/stable/user_guide/indexing.html#returning-a-view-versus-a-copy\n",
      "  data_cleaned['body_type_encoded'] = le_body_type.fit_transform(data_cleaned['body type'].astype(str))\n",
      "/var/folders/00/dfc6l5fn61s09z4jy0lqyz_w0000gn/T/ipykernel_42982/1776531038.py:29: SettingWithCopyWarning: \n",
      "A value is trying to be set on a copy of a slice from a DataFrame.\n",
      "Try using .loc[row_indexer,col_indexer] = value instead\n",
      "\n",
      "See the caveats in the documentation: https://pandas.pydata.org/pandas-docs/stable/user_guide/indexing.html#returning-a-view-versus-a-copy\n",
      "  data_cleaned['rented_for_encoded'] = le_rented_for.fit_transform(data_cleaned['rented for'].astype(str))\n",
      "/var/folders/00/dfc6l5fn61s09z4jy0lqyz_w0000gn/T/ipykernel_42982/1776531038.py:33: SettingWithCopyWarning: \n",
      "A value is trying to be set on a copy of a slice from a DataFrame.\n",
      "Try using .loc[row_indexer,col_indexer] = value instead\n",
      "\n",
      "See the caveats in the documentation: https://pandas.pydata.org/pandas-docs/stable/user_guide/indexing.html#returning-a-view-versus-a-copy\n",
      "  data_cleaned[['height', 'weight']] = scaler.fit_transform(data_cleaned[['height', 'weight']])\n",
      "/Users/dpark_23/anaconda3/lib/python3.11/site-packages/sklearn/base.py:493: UserWarning: X does not have valid feature names, but StandardScaler was fitted with feature names\n",
      "  warnings.warn(\n"
     ]
    },
    {
     "name": "stdout",
     "output_type": "stream",
     "text": [
      "Encoded 'Rented For' Mapping:\n",
      "Original: date -> Encoded: 0\n",
      "Original: everyday -> Encoded: 1\n",
      "Original: formal affair -> Encoded: 2\n",
      "Original: other -> Encoded: 3\n",
      "Original: party -> Encoded: 4\n",
      "Original: party: cocktail -> Encoded: 5\n",
      "Original: vacation -> Encoded: 6\n",
      "Original: wedding -> Encoded: 7\n",
      "Original: work -> Encoded: 8\n",
      "\n",
      "Encoded 'Body Type' Mapping:\n",
      "Original: apple -> Encoded: 0\n",
      "Original: athletic -> Encoded: 1\n",
      "Original: full bust -> Encoded: 2\n",
      "Original: hourglass -> Encoded: 3\n",
      "Original: pear -> Encoded: 4\n",
      "Original: petite -> Encoded: 5\n",
      "Original: straight & narrow -> Encoded: 6\n",
      "Most similar users' rented items and statistics:\n",
      "User 189062 rented item 335248 with similarity score 1.0000\n",
      "    Standardized Height: -1.6036502722315407 inches\n",
      "    Original Height: 61.00 inches\n",
      "    Standardized Weight: 0.805036026703655 lbs\n",
      "    Original Weight: 155.00 lbs\n",
      "    Body Type: pear\n",
      "    Rented For: party\n",
      "--------------------------------------------------\n",
      "User 525319 rented item 658625 with similarity score 1.0000\n",
      "    Standardized Height: -1.6036502722315407 inches\n",
      "    Original Height: 61.00 inches\n",
      "    Standardized Weight: 0.805036026703655 lbs\n",
      "    Original Weight: 155.00 lbs\n",
      "    Body Type: pear\n",
      "    Rented For: party\n",
      "--------------------------------------------------\n",
      "User 189062 rented item 409531 with similarity score 1.0000\n",
      "    Standardized Height: -1.6036502722315407 inches\n",
      "    Original Height: 61.00 inches\n",
      "    Standardized Weight: 0.805036026703655 lbs\n",
      "    Original Weight: 155.00 lbs\n",
      "    Body Type: pear\n",
      "    Rented For: party\n",
      "--------------------------------------------------\n",
      "User 934126 rented item 1746190 with similarity score 0.9999\n",
      "    Standardized Height: -1.22757989114487 inches\n",
      "    Original Height: 62.00 inches\n",
      "    Standardized Weight: 0.5767617309766229 lbs\n",
      "    Original Weight: 150.00 lbs\n",
      "    Body Type: hourglass\n",
      "    Rented For: other\n",
      "--------------------------------------------------\n",
      "User 690964 rented item 2452616 with similarity score 0.9999\n",
      "    Standardized Height: -1.22757989114487 inches\n",
      "    Original Height: 62.00 inches\n",
      "    Standardized Weight: 0.5767617309766229 lbs\n",
      "    Original Weight: 150.00 lbs\n",
      "    Body Type: hourglass\n",
      "    Rented For: other\n",
      "--------------------------------------------------\n",
      "User 212079 rented item 644425 with similarity score 0.9999\n",
      "    Standardized Height: -1.22757989114487 inches\n",
      "    Original Height: 62.00 inches\n",
      "    Standardized Weight: 0.5767617309766229 lbs\n",
      "    Original Weight: 150.00 lbs\n",
      "    Body Type: hourglass\n",
      "    Rented For: other\n",
      "--------------------------------------------------\n",
      "User 712518 rented item 527885 with similarity score 0.9999\n",
      "    Standardized Height: -1.22757989114487 inches\n",
      "    Original Height: 62.00 inches\n",
      "    Standardized Weight: 0.5767617309766229 lbs\n",
      "    Original Weight: 150.00 lbs\n",
      "    Body Type: hourglass\n",
      "    Rented For: other\n",
      "--------------------------------------------------\n",
      "User 373899 rented item 389631 with similarity score 0.9999\n",
      "    Standardized Height: -1.22757989114487 inches\n",
      "    Original Height: 62.00 inches\n",
      "    Standardized Weight: 0.5767617309766229 lbs\n",
      "    Original Weight: 150.00 lbs\n",
      "    Body Type: hourglass\n",
      "    Rented For: other\n",
      "--------------------------------------------------\n",
      "User 181583 rented item 795320 with similarity score 0.9999\n",
      "    Standardized Height: -1.22757989114487 inches\n",
      "    Original Height: 62.00 inches\n",
      "    Standardized Weight: 0.5767617309766229 lbs\n",
      "    Original Weight: 150.00 lbs\n",
      "    Body Type: hourglass\n",
      "    Rented For: other\n",
      "--------------------------------------------------\n",
      "User 341115 rented item 1808470 with similarity score 0.9999\n",
      "    Standardized Height: -1.22757989114487 inches\n",
      "    Original Height: 62.00 inches\n",
      "    Standardized Weight: 0.5767617309766229 lbs\n",
      "    Original Weight: 150.00 lbs\n",
      "    Body Type: hourglass\n",
      "    Rented For: other\n",
      "--------------------------------------------------\n",
      "Filtered Rentals (Based on Rented For Encoded) for Recommended Users: {658625, 126335, 2452616, 644425, 527885, 1746190, 335248, 1643568, 1808470, 795320, 409531, 389631}\n",
      "Recommended Items: [335248, 658625, 409531, 1746190, 2452616, 644425, 527885, 389631, 795320, 1808470]\n",
      "True Positives: {658625, 2452616, 644425, 527885, 1746190, 335248, 1808470, 795320, 409531, 389631}\n",
      "Precision: 1.0000\n",
      "Recall: 0.8333\n"
     ]
    }
   ],
   "source": [
    "#NEW CODE\n",
    "\n",
    "import pandas as pd\n",
    "from sklearn.metrics.pairwise import cosine_similarity\n",
    "from sklearn.preprocessing import StandardScaler, LabelEncoder\n",
    "import random\n",
    "\n",
    "file_path = 'renttherunway_final_data.json'  # Replace with your file path\n",
    "data = pd.read_json(file_path, lines=True)\n",
    "\n",
    "# Drop rows with missing values\n",
    "data_cleaned = data.dropna(subset=['height', 'weight', 'body type', 'rented for', 'size'])\n",
    "\n",
    "# Preprocessing data\n",
    "def convert_height_to_inches(height):\n",
    "    if isinstance(height, str) and \"'\" in height:\n",
    "        feet, inches = height.split(\"'\")\n",
    "        return int(feet) * 12 + int(inches.replace('\"', ''))\n",
    "    return None\n",
    "\n",
    "data_cleaned['height'] = data_cleaned['height'].apply(convert_height_to_inches)\n",
    "data_cleaned['weight'] = data_cleaned['weight'].str.replace('lbs', '').astype(float)\n",
    "\n",
    "# Encode categorical features\n",
    "le_body_type = LabelEncoder()\n",
    "data_cleaned['body_type_encoded'] = le_body_type.fit_transform(data_cleaned['body type'].astype(str))\n",
    "\n",
    "le_rented_for = LabelEncoder()\n",
    "data_cleaned['rented_for_encoded'] = le_rented_for.fit_transform(data_cleaned['rented for'].astype(str))\n",
    "\n",
    "# Normalize numerical features\n",
    "scaler = StandardScaler()\n",
    "data_cleaned[['height', 'weight']] = scaler.fit_transform(data_cleaned[['height', 'weight']])\n",
    "\n",
    "# Define features\n",
    "features = ['height', 'weight', 'body_type_encoded', 'rented_for_encoded']\n",
    "X_cleaned = data_cleaned[features]\n",
    "\n",
    "# Reset indices for X_cleaned and data_cleaned\n",
    "data_cleaned = data_cleaned.reset_index(drop=True)\n",
    "X_cleaned = X_cleaned.reset_index(drop=True)\n",
    "\n",
    "# Print the mappings of encoded 'rented_for' and 'body_type'\n",
    "print(\"Encoded 'Rented For' Mapping:\")\n",
    "for original, encoded in zip(le_rented_for.classes_, range(len(le_rented_for.classes_))):\n",
    "    print(f\"Original: {original} -> Encoded: {encoded}\")\n",
    "\n",
    "print(\"\\nEncoded 'Body Type' Mapping:\")\n",
    "for original, encoded in zip(le_body_type.classes_, range(len(le_body_type.classes_))):\n",
    "    print(f\"Original: {original} -> Encoded: {encoded}\")\n",
    "\n",
    "# User profile (example: height=59 inches, weight=140 lbs, body_type=3 (hourglass), rented_for=4 (party))\n",
    "user_profile = [60, 160, 5, 5]  # Modify this as per user input\n",
    "\n",
    "user_profile_scaled = scaler.transform([user_profile[:2]])[0].tolist() + user_profile[2:]\n",
    "\n",
    "# Function to find similar users\n",
    "def find_similar_users(user_profile, X):\n",
    "    user_profile_df = pd.DataFrame([user_profile], columns=X.columns)\n",
    "    similarity_scores = cosine_similarity(user_profile_df, X)\n",
    "    similarity_scores = similarity_scores.flatten()\n",
    "    similar_users_indices = similarity_scores.argsort()[-10:][::-1]\n",
    "    return similar_users_indices, similarity_scores\n",
    "\n",
    "similar_users_indices, similarity_scores = find_similar_users(user_profile_scaled, X_cleaned)\n",
    "\n",
    "# Print the rented items and details of the most similar users\n",
    "print(\"Most similar users' rented items and statistics:\")\n",
    "for idx in similar_users_indices:\n",
    "    user = data_cleaned.iloc[idx]  # Use the reset index from data_cleaned\n",
    "    print(f\"User {user['user_id']} rented item {user['item_id']} with similarity score {similarity_scores[idx]:.4f}\")\n",
    "    print(f\"    Standardized Height: {user['height']} inches\")\n",
    "    print(f\"    Original Height: {user['height'] * scaler.scale_[0] + scaler.mean_[0]:.2f} inches\")\n",
    "    print(f\"    Standardized Weight: {user['weight']} lbs\")\n",
    "    print(f\"    Original Weight: {user['weight'] * scaler.scale_[1] + scaler.mean_[1]:.2f} lbs\")\n",
    "    print(f\"    Body Type: {user['body type']}\")\n",
    "    print(f\"    Rented For: {user['rented for']}\")\n",
    "    print(\"-\" * 50)  # Separator for readability\n",
    "\n",
    "# Step 1: Get all recommended users and their rented items filtered by rented_for_encoded\n",
    "def get_filtered_rentals_for_users(similar_users_indices, data_cleaned):\n",
    "    all_rented_items_filtered = set()  # Set to remove duplicates\n",
    "\n",
    "    for idx in similar_users_indices:\n",
    "        user = data_cleaned.iloc[idx]\n",
    "        rented_for_encoded = user['rented_for_encoded']  # Get the 'rented_for_encoded' for the user\n",
    "        \n",
    "        # Get the rented items for this user and filter by rented_for_encoded\n",
    "        user_rented_items = data_cleaned[data_cleaned['user_id'] == user['user_id']]\n",
    "        filtered_rentals = user_rented_items[user_rented_items['rented_for_encoded'] == rented_for_encoded]\n",
    "        \n",
    "        # Add the item ids to the set (removes duplicates)\n",
    "        all_rented_items_filtered.update(filtered_rentals['item_id'])\n",
    "\n",
    "    return all_rented_items_filtered\n",
    "\n",
    "filtered_rentals = get_filtered_rentals_for_users(similar_users_indices, data_cleaned)\n",
    "\n",
    "# Step 2: Get the recommended items\n",
    "def recommend_items(user_profile, X, data):\n",
    "    similar_users_indices, similarity_scores = find_similar_users(user_profile, X)\n",
    "    \n",
    "    recommended_items = []\n",
    "    for idx in similar_users_indices:\n",
    "        item_id = data.iloc[idx]['item_id']\n",
    "        if item_id not in recommended_items:\n",
    "            recommended_items.append(item_id)\n",
    "    \n",
    "    return recommended_items\n",
    "\n",
    "recommended_items = recommend_items(user_profile_scaled, X_cleaned, data_cleaned)\n",
    "\n",
    "# Step 3: Compare recommendations to the filtered past rentals list\n",
    "recommended_set = set(recommended_items)\n",
    "true_rentals_set = filtered_rentals\n",
    "\n",
    "# True positives: items that are both in the recommended list and the past rentals list\n",
    "true_positives = recommended_set.intersection(true_rentals_set)\n",
    "\n",
    "# Precision\n",
    "precision = len(true_positives) / len(recommended_set) if len(recommended_set) > 0 else 0.0\n",
    "\n",
    "# Recall\n",
    "recall = len(true_positives) / len(true_rentals_set) if len(true_rentals_set) > 0 else 0.0\n",
    "\n",
    "# Print the metrics\n",
    "print(f\"Filtered Rentals (Based on Rented For Encoded) for Recommended Users: {filtered_rentals}\")\n",
    "print(f\"Recommended Items: {recommended_items}\")\n",
    "print(f\"True Positives: {true_positives}\")\n",
    "print(f\"Precision: {precision:.4f}\")\n",
    "print(f\"Recall: {recall:.4f}\")"
   ]
  },
  {
   "cell_type": "code",
   "execution_count": 93,
   "id": "e30c4b92",
   "metadata": {},
   "outputs": [
    {
     "name": "stdout",
     "output_type": "stream",
     "text": [
      "Mean Squared Error (MSE): 0.0000\n",
      "Root Mean Squared Error (RMSE): 0.0037\n"
     ]
    }
   ],
   "source": [
    "from sklearn.metrics import mean_squared_error\n",
    "import numpy as np\n",
    "\n",
    "# Step 1: Collect Actual Scores and Predicted Scores\n",
    "actual_scores = []\n",
    "predicted_scores = []\n",
    "\n",
    "# Get the similarity score for each true positive\n",
    "for item_id in true_positives:\n",
    "    for idx in similar_users_indices:\n",
    "        user = data_cleaned.iloc[idx]\n",
    "        if user['item_id'] == item_id:\n",
    "            actual_scores.append(similarity_scores[idx])\n",
    "            break\n",
    "\n",
    "# Get the similarity score for each recommended item\n",
    "for item_id in recommended_items:\n",
    "    for idx in similar_users_indices:\n",
    "        user = data_cleaned.iloc[idx]\n",
    "        if user['item_id'] == item_id:\n",
    "            predicted_scores.append(similarity_scores[idx])\n",
    "            break\n",
    "\n",
    "# Step 2: Calculate MSE and RMSE\n",
    "if len(actual_scores) > 0 and len(predicted_scores) > 0:\n",
    "    mse = mean_squared_error(actual_scores, predicted_scores)\n",
    "    rmse = np.sqrt(mse)\n",
    "    print(f\"Mean Squared Error (MSE): {mse:.4f}\")\n",
    "    print(f\"Root Mean Squared Error (RMSE): {rmse:.4f}\")\n",
    "else:\n",
    "    print(\"Insufficient data to calculate MSE/RMSE.\")"
   ]
  },
  {
   "cell_type": "code",
   "execution_count": 94,
   "id": "0c2b627c",
   "metadata": {},
   "outputs": [],
   "source": [
    "from sklearn.model_selection import train_test_split\n",
    "\n",
    "# Split the data into training and testing sets\n",
    "train_data, test_data = train_test_split(data_cleaned, test_size=0.2, random_state=42)"
   ]
  },
  {
   "cell_type": "code",
   "execution_count": 95,
   "id": "c7cb641b",
   "metadata": {},
   "outputs": [],
   "source": [
    "# Creating a dictionary of user_id to their rented items in the test set\n",
    "test_user_items = test_data.groupby('user_id')['item_id'].apply(list).to_dict()\n",
    "\n",
    "# Simulate hidden items by randomly removing one item per user\n",
    "hidden_items = {}\n",
    "for user_id, items in test_user_items.items():\n",
    "    if len(items) > 1:\n",
    "        hidden_items[user_id] = items.pop(random.randint(0, len(items) - 1))"
   ]
  },
  {
   "cell_type": "code",
   "execution_count": 99,
   "id": "fcf46959",
   "metadata": {},
   "outputs": [
    {
     "name": "stdout",
     "output_type": "stream",
     "text": [
      "Index 139622 is out of bounds for the data DataFrame!\n",
      "Index 131240 is out of bounds for the data DataFrame!\n",
      "Index 139622 is out of bounds for the data DataFrame!\n",
      "Index 131240 is out of bounds for the data DataFrame!\n",
      "Index 124901 is out of bounds for the data DataFrame!\n",
      "Index 149883 is out of bounds for the data DataFrame!\n",
      "Index 140487 is out of bounds for the data DataFrame!\n",
      "Index 131240 is out of bounds for the data DataFrame!\n",
      "Index 124901 is out of bounds for the data DataFrame!\n",
      "Index 135001 is out of bounds for the data DataFrame!\n",
      "Index 124901 is out of bounds for the data DataFrame!\n",
      "Index 131240 is out of bounds for the data DataFrame!\n",
      "Index 135001 is out of bounds for the data DataFrame!\n",
      "Index 139622 is out of bounds for the data DataFrame!\n"
     ]
    },
    {
     "name": "stderr",
     "output_type": "stream",
     "text": [
      "/Users/dpark_23/anaconda3/lib/python3.11/site-packages/sklearn/base.py:493: UserWarning: X does not have valid feature names, but StandardScaler was fitted with feature names\n",
      "  warnings.warn(\n",
      "/Users/dpark_23/anaconda3/lib/python3.11/site-packages/sklearn/base.py:493: UserWarning: X does not have valid feature names, but StandardScaler was fitted with feature names\n",
      "  warnings.warn(\n",
      "/Users/dpark_23/anaconda3/lib/python3.11/site-packages/sklearn/base.py:493: UserWarning: X does not have valid feature names, but StandardScaler was fitted with feature names\n",
      "  warnings.warn(\n",
      "/Users/dpark_23/anaconda3/lib/python3.11/site-packages/sklearn/base.py:493: UserWarning: X does not have valid feature names, but StandardScaler was fitted with feature names\n",
      "  warnings.warn(\n",
      "/Users/dpark_23/anaconda3/lib/python3.11/site-packages/sklearn/base.py:493: UserWarning: X does not have valid feature names, but StandardScaler was fitted with feature names\n",
      "  warnings.warn(\n",
      "/Users/dpark_23/anaconda3/lib/python3.11/site-packages/sklearn/base.py:493: UserWarning: X does not have valid feature names, but StandardScaler was fitted with feature names\n",
      "  warnings.warn(\n"
     ]
    },
    {
     "ename": "IndexError",
     "evalue": "single positional indexer is out-of-bounds",
     "output_type": "error",
     "traceback": [
      "\u001b[0;31m---------------------------------------------------------------------------\u001b[0m",
      "\u001b[0;31mIndexError\u001b[0m                                Traceback (most recent call last)",
      "Cell \u001b[0;32mIn[99], line 54\u001b[0m\n\u001b[1;32m     51\u001b[0m X_cleaned \u001b[38;5;241m=\u001b[39m X_cleaned\u001b[38;5;241m.\u001b[39mreset_index(drop\u001b[38;5;241m=\u001b[39m\u001b[38;5;28;01mTrue\u001b[39;00m)\n\u001b[1;32m     53\u001b[0m \u001b[38;5;66;03m# Evaluate the system\u001b[39;00m\n\u001b[0;32m---> 54\u001b[0m avg_precision, avg_recall \u001b[38;5;241m=\u001b[39m evaluate_recommendations(test_data, hidden_items, train_data, features, scaler, top_n\u001b[38;5;241m=\u001b[39m\u001b[38;5;241m10\u001b[39m)\n\u001b[1;32m     55\u001b[0m \u001b[38;5;28mprint\u001b[39m(\u001b[38;5;124mf\u001b[39m\u001b[38;5;124m\"\u001b[39m\u001b[38;5;124mAverage Precision: \u001b[39m\u001b[38;5;132;01m{\u001b[39;00mavg_precision\u001b[38;5;132;01m:\u001b[39;00m\u001b[38;5;124m.4f\u001b[39m\u001b[38;5;132;01m}\u001b[39;00m\u001b[38;5;124m\"\u001b[39m)\n\u001b[1;32m     56\u001b[0m \u001b[38;5;28mprint\u001b[39m(\u001b[38;5;124mf\u001b[39m\u001b[38;5;124m\"\u001b[39m\u001b[38;5;124mAverage Recall: \u001b[39m\u001b[38;5;132;01m{\u001b[39;00mavg_recall\u001b[38;5;132;01m:\u001b[39;00m\u001b[38;5;124m.4f\u001b[39m\u001b[38;5;132;01m}\u001b[39;00m\u001b[38;5;124m\"\u001b[39m)\n",
      "Cell \u001b[0;32mIn[99], line 22\u001b[0m, in \u001b[0;36mevaluate_recommendations\u001b[0;34m(test_data, hidden_items, train_data, features, scaler, top_n)\u001b[0m\n\u001b[1;32m     18\u001b[0m recall_scores \u001b[38;5;241m=\u001b[39m []\n\u001b[1;32m     20\u001b[0m \u001b[38;5;28;01mfor\u001b[39;00m user_id, hidden_item \u001b[38;5;129;01min\u001b[39;00m hidden_items\u001b[38;5;241m.\u001b[39mitems():\n\u001b[1;32m     21\u001b[0m     \u001b[38;5;66;03m# Get user's profile from the training set\u001b[39;00m\n\u001b[0;32m---> 22\u001b[0m     user_row \u001b[38;5;241m=\u001b[39m train_data[train_data[\u001b[38;5;124m'\u001b[39m\u001b[38;5;124muser_id\u001b[39m\u001b[38;5;124m'\u001b[39m] \u001b[38;5;241m==\u001b[39m user_id]\u001b[38;5;241m.\u001b[39miloc[\u001b[38;5;241m0\u001b[39m]\n\u001b[1;32m     23\u001b[0m     user_profile \u001b[38;5;241m=\u001b[39m [\n\u001b[1;32m     24\u001b[0m         user_row[\u001b[38;5;124m'\u001b[39m\u001b[38;5;124mheight\u001b[39m\u001b[38;5;124m'\u001b[39m], user_row[\u001b[38;5;124m'\u001b[39m\u001b[38;5;124mweight\u001b[39m\u001b[38;5;124m'\u001b[39m],\n\u001b[1;32m     25\u001b[0m         user_row[\u001b[38;5;124m'\u001b[39m\u001b[38;5;124mbody_type_encoded\u001b[39m\u001b[38;5;124m'\u001b[39m], user_row[\u001b[38;5;124m'\u001b[39m\u001b[38;5;124mrented_for_encoded\u001b[39m\u001b[38;5;124m'\u001b[39m]\n\u001b[1;32m     26\u001b[0m     ]\n\u001b[1;32m     27\u001b[0m     user_profile_scaled \u001b[38;5;241m=\u001b[39m scaler\u001b[38;5;241m.\u001b[39mtransform([user_profile[:\u001b[38;5;241m2\u001b[39m]])[\u001b[38;5;241m0\u001b[39m]\u001b[38;5;241m.\u001b[39mtolist() \u001b[38;5;241m+\u001b[39m user_profile[\u001b[38;5;241m2\u001b[39m:]\n",
      "File \u001b[0;32m~/anaconda3/lib/python3.11/site-packages/pandas/core/indexing.py:1191\u001b[0m, in \u001b[0;36m_LocationIndexer.__getitem__\u001b[0;34m(self, key)\u001b[0m\n\u001b[1;32m   1189\u001b[0m maybe_callable \u001b[38;5;241m=\u001b[39m com\u001b[38;5;241m.\u001b[39mapply_if_callable(key, \u001b[38;5;28mself\u001b[39m\u001b[38;5;241m.\u001b[39mobj)\n\u001b[1;32m   1190\u001b[0m maybe_callable \u001b[38;5;241m=\u001b[39m \u001b[38;5;28mself\u001b[39m\u001b[38;5;241m.\u001b[39m_check_deprecated_callable_usage(key, maybe_callable)\n\u001b[0;32m-> 1191\u001b[0m \u001b[38;5;28;01mreturn\u001b[39;00m \u001b[38;5;28mself\u001b[39m\u001b[38;5;241m.\u001b[39m_getitem_axis(maybe_callable, axis\u001b[38;5;241m=\u001b[39maxis)\n",
      "File \u001b[0;32m~/anaconda3/lib/python3.11/site-packages/pandas/core/indexing.py:1752\u001b[0m, in \u001b[0;36m_iLocIndexer._getitem_axis\u001b[0;34m(self, key, axis)\u001b[0m\n\u001b[1;32m   1749\u001b[0m     \u001b[38;5;28;01mraise\u001b[39;00m \u001b[38;5;167;01mTypeError\u001b[39;00m(\u001b[38;5;124m\"\u001b[39m\u001b[38;5;124mCannot index by location index with a non-integer key\u001b[39m\u001b[38;5;124m\"\u001b[39m)\n\u001b[1;32m   1751\u001b[0m \u001b[38;5;66;03m# validate the location\u001b[39;00m\n\u001b[0;32m-> 1752\u001b[0m \u001b[38;5;28mself\u001b[39m\u001b[38;5;241m.\u001b[39m_validate_integer(key, axis)\n\u001b[1;32m   1754\u001b[0m \u001b[38;5;28;01mreturn\u001b[39;00m \u001b[38;5;28mself\u001b[39m\u001b[38;5;241m.\u001b[39mobj\u001b[38;5;241m.\u001b[39m_ixs(key, axis\u001b[38;5;241m=\u001b[39maxis)\n",
      "File \u001b[0;32m~/anaconda3/lib/python3.11/site-packages/pandas/core/indexing.py:1685\u001b[0m, in \u001b[0;36m_iLocIndexer._validate_integer\u001b[0;34m(self, key, axis)\u001b[0m\n\u001b[1;32m   1683\u001b[0m len_axis \u001b[38;5;241m=\u001b[39m \u001b[38;5;28mlen\u001b[39m(\u001b[38;5;28mself\u001b[39m\u001b[38;5;241m.\u001b[39mobj\u001b[38;5;241m.\u001b[39m_get_axis(axis))\n\u001b[1;32m   1684\u001b[0m \u001b[38;5;28;01mif\u001b[39;00m key \u001b[38;5;241m>\u001b[39m\u001b[38;5;241m=\u001b[39m len_axis \u001b[38;5;129;01mor\u001b[39;00m key \u001b[38;5;241m<\u001b[39m \u001b[38;5;241m-\u001b[39mlen_axis:\n\u001b[0;32m-> 1685\u001b[0m     \u001b[38;5;28;01mraise\u001b[39;00m \u001b[38;5;167;01mIndexError\u001b[39;00m(\u001b[38;5;124m\"\u001b[39m\u001b[38;5;124msingle positional indexer is out-of-bounds\u001b[39m\u001b[38;5;124m\"\u001b[39m)\n",
      "\u001b[0;31mIndexError\u001b[0m: single positional indexer is out-of-bounds"
     ]
    }
   ],
   "source": [
    "def recommend_items(user_profile, X, data):\n",
    "    similar_users_indices, similarity_scores = find_similar_users(user_profile, X)\n",
    "    \n",
    "    recommended_items = []\n",
    "    for idx in similar_users_indices:\n",
    "        # Ensure idx is within the valid range\n",
    "        if idx < len(data):  # Check if the index is within bounds\n",
    "            item_id = data.iloc[idx]['item_id']\n",
    "            if item_id not in recommended_items:\n",
    "                recommended_items.append(item_id)\n",
    "        else:\n",
    "            print(f\"Index {idx} is out of bounds for the data DataFrame!\")\n",
    "    \n",
    "    return recommended_items\n",
    "\n",
    "def evaluate_recommendations(test_data, hidden_items, train_data, features, scaler, top_n=10):\n",
    "    precision_scores = []\n",
    "    recall_scores = []\n",
    "    \n",
    "    for user_id, hidden_item in hidden_items.items():\n",
    "        # Get user's profile from the training set\n",
    "        user_row = train_data[train_data['user_id'] == user_id].iloc[0]\n",
    "        user_profile = [\n",
    "            user_row['height'], user_row['weight'],\n",
    "            user_row['body_type_encoded'], user_row['rented_for_encoded']\n",
    "        ]\n",
    "        user_profile_scaled = scaler.transform([user_profile[:2]])[0].tolist() + user_profile[2:]\n",
    "        \n",
    "        # Get recommendations\n",
    "        recommended_items = recommend_items(user_profile_scaled, X_cleaned, train_data)\n",
    "        \n",
    "        # Evaluate precision and recall\n",
    "        recommended_set = set(recommended_items[:top_n])\n",
    "        true_set = {hidden_item}\n",
    "        true_positives = recommended_set.intersection(true_set)\n",
    "        \n",
    "        precision = len(true_positives) / len(recommended_set) if len(recommended_set) > 0 else 0.0\n",
    "        recall = len(true_positives) / len(true_set) if len(true_set) > 0 else 0.0\n",
    "        \n",
    "        precision_scores.append(precision)\n",
    "        recall_scores.append(recall)\n",
    "    \n",
    "    # Average precision and recall\n",
    "    avg_precision = sum(precision_scores) / len(precision_scores)\n",
    "    avg_recall = sum(recall_scores) / len(recall_scores)\n",
    "    \n",
    "    return avg_precision, avg_recall\n",
    "\n",
    "# Ensure indices are reset in both train_data and X_cleaned\n",
    "train_data = train_data.reset_index(drop=True)\n",
    "X_cleaned = X_cleaned.reset_index(drop=True)\n",
    "\n",
    "# Evaluate the system\n",
    "avg_precision, avg_recall = evaluate_recommendations(test_data, hidden_items, train_data, features, scaler, top_n=10)\n",
    "print(f\"Average Precision: {avg_precision:.4f}\")\n",
    "print(f\"Average Recall: {avg_recall:.4f}\")"
   ]
  },
  {
   "cell_type": "markdown",
   "id": "939253e4",
   "metadata": {},
   "source": [
    "#### Data Features and Processing (IGNORE)\n",
    "\n",
    "Rows with missing critical attributes from height, weight, bust size, and size were removed. Value conversions were done where necessary. Variable \"not fit\" was created from aggregating small and large together as there was an overwhelming amount of fit in comparison to both variables so we decided to combine them. New fit column was created, where 1 = fit and 0 = not fit. \n",
    "\n",
    "The following features were used to predict whether an item fits a user:\n",
    "- **height_inches**: numerical representation of height converted from \"feet and inches\" to inches\n",
    "- **weight**: numerical feature derived from weight column after removing suffixes\n",
    "- **bust_size_encoded**: categorical feature, transformed into numerical using label encoding\n",
    "- **size**: size of the rented item, as a numerical feature"
   ]
  },
  {
   "cell_type": "markdown",
   "id": "a3559baa",
   "metadata": {},
   "source": [
    "#### Model Evaluation (IGNORE)\n",
    "\n",
    "To evaluate the predictive performance of the model the following metrics will be used:\n",
    "\n"
   ]
  },
  {
   "cell_type": "code",
   "execution_count": null,
   "id": "b21d078e",
   "metadata": {},
   "outputs": [],
   "source": []
  }
 ],
 "metadata": {
  "kernelspec": {
   "display_name": "Python 3 (ipykernel)",
   "language": "python",
   "name": "python3"
  },
  "language_info": {
   "codemirror_mode": {
    "name": "ipython",
    "version": 3
   },
   "file_extension": ".py",
   "mimetype": "text/x-python",
   "name": "python",
   "nbconvert_exporter": "python",
   "pygments_lexer": "ipython3",
   "version": "3.11.5"
  }
 },
 "nbformat": 4,
 "nbformat_minor": 5
}
